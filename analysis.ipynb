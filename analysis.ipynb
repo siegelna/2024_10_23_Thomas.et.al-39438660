{
 "cells": [
  {
   "cell_type": "code",
   "execution_count": 65,
   "metadata": {
    "vscode": {
     "languageId": "r"
    }
   },
   "outputs": [],
   "source": [
    "# Install R packages not on conda\n",
    "if (!requireNamespace(\"anndataR\", quietly = TRUE)) {\n",
    "  if (!requireNamespace(\"devtools\", quietly = TRUE)) install.packages(\"devtools\")\n",
    "  devtools::install_github(\"scverse/anndataR\")\n",
    "}\n",
    "\n",
    "# Load R packages\n",
    "suppressPackageStartupMessages({\n",
    "    library(Seurat)\n",
    "    library(celldex) # Automated annotation\n",
    "    library(SingleR) # Automated annotation\n",
    "    library(anndataR) # Convert adata to seurat\n",
    "    library(ShinyCell)\n",
    "})"
   ]
  },
  {
   "cell_type": "code",
   "execution_count": null,
   "metadata": {
    "vscode": {
     "languageId": "r"
    }
   },
   "outputs": [],
   "source": [
    "# Run analysis\n",
    "## source function\n",
    "source(\"R/00_run_analysis.R\")\n",
    "## process data\n",
    "source(\"R/01_immune_structural_analysis.R\")"
   ]
  },
  {
   "cell_type": "code",
   "execution_count": null,
   "metadata": {
    "vscode": {
     "languageId": "r"
    }
   },
   "outputs": [],
   "source": [
    "# Make shiny files\n",
    "source(\"R/02_immune_shiny_files.R\")\n",
    "source(\"R/02_structural_shiny_files.R\")"
   ]
  },
  {
   "cell_type": "code",
   "execution_count": null,
   "metadata": {
    "vscode": {
     "languageId": "r"
    }
   },
   "outputs": [],
   "source": [
    "# Immune cells application\n",
    "system(\"R -e \\\"shiny::runApp('IBD_biopsy_scRNAseqzenodoID13965420_immune')\\\"\")"
   ]
  },
  {
   "cell_type": "code",
   "execution_count": null,
   "metadata": {
    "vscode": {
     "languageId": "r"
    }
   },
   "outputs": [],
   "source": [
    "# Structal cells application\n",
    "system(\"R -e \\\"shiny::runApp('IBD_biopsy_scRNAseqzenodoID13965420_structural')\\\"\")"
   ]
  }
 ],
 "metadata": {
  "kernelspec": {
   "display_name": "R",
   "language": "R",
   "name": "ir"
  },
  "language_info": {
   "codemirror_mode": "r",
   "file_extension": ".r",
   "mimetype": "text/x-r-source",
   "name": "R",
   "pygments_lexer": "r",
   "version": "4.3.3"
  }
 },
 "nbformat": 4,
 "nbformat_minor": 2
}
