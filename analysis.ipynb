{
 "cells": [
  {
   "cell_type": "code",
   "execution_count": 14,
   "metadata": {
    "vscode": {
     "languageId": "r"
    }
   },
   "outputs": [],
   "source": [
    "# Install R packages not on conda\n",
    "if (!requireNamespace(\"anndataR\", quietly = TRUE)) {\n",
    "  if (!requireNamespace(\"devtools\", quietly = TRUE)) install.packages(\"devtools\")\n",
    "  devtools::install_github(\"scverse/anndataR\")\n",
    "}\n",
    "\n",
    "# Load R packages\n",
    "suppressPackageStartupMessages({\n",
    "    library(Seurat)\n",
    "    library(celldex) # Automated annotation\n",
    "    library(SingleR) # Automated annotation\n",
    "    library(anndataR) # Convert adata to seurat\n",
    "    library(ShinyCell)\n",
    "})"
   ]
  },
  {
   "cell_type": "code",
   "execution_count": 42,
   "metadata": {
    "vscode": {
     "languageId": "r"
    }
   },
   "outputs": [
    {
     "data": {
      "text/html": [
       "<style>\n",
       ".list-inline {list-style: none; margin:0; padding: 0}\n",
       ".list-inline>li {display: inline-block}\n",
       ".list-inline>li:not(:last-child)::after {content: \"\\00b7\"; padding: 0 .5ex}\n",
       "</style>\n",
       "<ol class=list-inline><li>'data/bcell_viz_ready_revised.h5ad'</li><li>'data/cd4tcell_viz_ready_revised.h5ad'</li><li>'data/cd8tcell_viz_ready_revised.h5ad'</li></ol>\n"
      ],
      "text/latex": [
       "\\begin{enumerate*}\n",
       "\\item 'data/bcell\\_viz\\_ready\\_revised.h5ad'\n",
       "\\item 'data/cd4tcell\\_viz\\_ready\\_revised.h5ad'\n",
       "\\item 'data/cd8tcell\\_viz\\_ready\\_revised.h5ad'\n",
       "\\end{enumerate*}\n"
      ],
      "text/markdown": [
       "1. 'data/bcell_viz_ready_revised.h5ad'\n",
       "2. 'data/cd4tcell_viz_ready_revised.h5ad'\n",
       "3. 'data/cd8tcell_viz_ready_revised.h5ad'\n",
       "\n",
       "\n"
      ],
      "text/plain": [
       "[1] \"data/bcell_viz_ready_revised.h5ad\"   \n",
       "[2] \"data/cd4tcell_viz_ready_revised.h5ad\"\n",
       "[3] \"data/cd8tcell_viz_ready_revised.h5ad\""
      ]
     },
     "metadata": {},
     "output_type": "display_data"
    }
   ],
   "source": [
    "immune <- list.files(path = \"data\", pattern = \".h5ad\", full.names = TRUE)[1:3]\n",
    "immune"
   ]
  },
  {
   "cell_type": "code",
   "execution_count": 43,
   "metadata": {
    "vscode": {
     "languageId": "r"
    }
   },
   "outputs": [
    {
     "data": {
      "text/html": [
       "<style>\n",
       ".list-inline {list-style: none; margin:0; padding: 0}\n",
       ".list-inline>li {display: inline-block}\n",
       ".list-inline>li:not(:last-child)::after {content: \"\\00b7\"; padding: 0 .5ex}\n",
       "</style>\n",
       "<ol class=list-inline><li>'data/endothelium_glial_viz_ready_revised.h5ad'</li><li>'data/epi_ileal_viz_ready_revised.h5ad'</li><li>'data/epithelium_colonic_viz_ready_revised.h5ad'</li></ol>\n"
      ],
      "text/latex": [
       "\\begin{enumerate*}\n",
       "\\item 'data/endothelium\\_glial\\_viz\\_ready\\_revised.h5ad'\n",
       "\\item 'data/epi\\_ileal\\_viz\\_ready\\_revised.h5ad'\n",
       "\\item 'data/epithelium\\_colonic\\_viz\\_ready\\_revised.h5ad'\n",
       "\\end{enumerate*}\n"
      ],
      "text/markdown": [
       "1. 'data/endothelium_glial_viz_ready_revised.h5ad'\n",
       "2. 'data/epi_ileal_viz_ready_revised.h5ad'\n",
       "3. 'data/epithelium_colonic_viz_ready_revised.h5ad'\n",
       "\n",
       "\n"
      ],
      "text/plain": [
       "[1] \"data/endothelium_glial_viz_ready_revised.h5ad\" \n",
       "[2] \"data/epi_ileal_viz_ready_revised.h5ad\"         \n",
       "[3] \"data/epithelium_colonic_viz_ready_revised.h5ad\""
      ]
     },
     "metadata": {},
     "output_type": "display_data"
    }
   ],
   "source": [
    "structural <- list.files(path = \"data\", pattern = \".h5ad\", full.names = TRUE)[4:6]\n",
    "structural"
   ]
  },
  {
   "cell_type": "code",
   "execution_count": null,
   "metadata": {
    "vscode": {
     "languageId": "r"
    }
   },
   "outputs": [],
   "source": [
    "lapply(input_files, function(file) {\n",
    "  output_file <- sub(\"\\\\.h5ad$\", \".rda\", file)\n",
    "  \n",
    "  run_analysis(file_path = file, col_to_keep = col_to_keep,  annotation = c(\"monaco\", \"blueprint\"),  output_file = output_file)\n",
    "})"
   ]
  },
  {
   "cell_type": "code",
   "execution_count": 44,
   "metadata": {
    "vscode": {
     "languageId": "r"
    }
   },
   "outputs": [],
   "source": [
    "annotation = c(\"monaco\", \"blueprint\")"
   ]
  },
  {
   "cell_type": "code",
   "execution_count": 46,
   "metadata": {
    "vscode": {
     "languageId": "r"
    }
   },
   "outputs": [
    {
     "data": {
      "text/html": [
       "TRUE"
      ],
      "text/latex": [
       "TRUE"
      ],
      "text/markdown": [
       "TRUE"
      ],
      "text/plain": [
       "[1] TRUE"
      ]
     },
     "metadata": {},
     "output_type": "display_data"
    }
   ],
   "source": [
    "\"monaco\" %in% annotation"
   ]
  }
 ],
 "metadata": {
  "kernelspec": {
   "display_name": "R",
   "language": "R",
   "name": "ir"
  },
  "language_info": {
   "codemirror_mode": "r",
   "file_extension": ".r",
   "mimetype": "text/x-r-source",
   "name": "R",
   "pygments_lexer": "r",
   "version": "4.3.3"
  }
 },
 "nbformat": 4,
 "nbformat_minor": 2
}
